{
 "cells": [
  {
   "cell_type": "code",
   "execution_count": 2,
   "metadata": {
    "collapsed": false
   },
   "outputs": [
    {
     "ename": "ImportError",
     "evalue": "No module named intervaltree",
     "traceback": [
      "\u001b[0;31m---------------------------------------------------------------------------\u001b[0m",
      "\u001b[0;31mImportError\u001b[0m                               Traceback (most recent call last)",
      "\u001b[0;32m<ipython-input-2-2a1b085f7381>\u001b[0m in \u001b[0;36m<module>\u001b[0;34m()\u001b[0m\n\u001b[1;32m      1\u001b[0m \u001b[0;32mimport\u001b[0m \u001b[0mcsv\u001b[0m\u001b[0;34m\u001b[0m\u001b[0m\n\u001b[1;32m      2\u001b[0m \u001b[0;32mimport\u001b[0m \u001b[0mre\u001b[0m\u001b[0;34m\u001b[0m\u001b[0m\n\u001b[0;32m----> 3\u001b[0;31m \u001b[0;32mfrom\u001b[0m \u001b[0mintervaltree\u001b[0m \u001b[0;32mimport\u001b[0m \u001b[0mIntervalTree\u001b[0m\u001b[0;34m\u001b[0m\u001b[0m\n\u001b[0m",
      "\u001b[0;31mImportError\u001b[0m: No module named intervaltree"
     ],
     "output_type": "error"
    }
   ],
   "source": [
    "import csv\n",
    "import re\n",
    "from intervaltree import IntervalTree"
   ]
  },
  {
   "cell_type": "code",
   "execution_count": 1,
   "metadata": {
    "collapsed": true
   },
   "outputs": [],
   "source": [
    "class Genes(object):\n",
    "\n",
    "    \"\"\"\n",
    "    The features class stores genes taken from a gff file\n",
    "    \"\"\"\n",
    "    def __init__(self, gff):\n",
    "        \"\"\"\n",
    "\n",
    "        :param gff: the file name of the gff file you want to import\n",
    "        \"\"\"\n",
    "        self._gene_dict = gff\n",
    "\n",
    "    @staticmethod\n",
    "    def get_name(info):\n",
    "        '''\n",
    "        import\n",
    "        :param info:\n",
    "        :return: Either the name of the Gene or the Orf number\n",
    "        '''\n",
    "        match = re.search(\"Gene.+?;\", info)\n",
    "        if not match:\n",
    "            match = re.search(\"Name.+?;\", info)\n",
    "        return match.group()[5:-1]\n",
    "\n",
    "    @property\n",
    "    def gene_dict(self):\n",
    "        '''\n",
    "\n",
    "        :return: gene_dict\n",
    "        '''\n",
    "        return self._gene_dict\n",
    "\n",
    "    @gene_dict.setter\n",
    "    def gene_dict(self, gff):\n",
    "        '''\n",
    "        Sets the the features to a range tree of genes\n",
    "        :param gff:\n",
    "\n",
    "        '''\n",
    "        gd = {}\n",
    "        with open(gff, \"r\") as infile:\n",
    "            reader = csv.reader(infile, delimiter=\"\\t\")\n",
    "            for r in reader:\n",
    "                if (\"#\" not in r[0]) and (len(r) > 1) and (r[2] == \"gene\"):\n",
    "                    gd.setdefault(r[0], IntervalTree())\n",
    "                    gd[r[0]][int(r[3]):int(r[4])] = self.get_name(r[8])\n",
    "        self._gene_dict = gd"
   ]
  },
  {
   "cell_type": "code",
   "execution_count": null,
   "metadata": {
    "collapsed": true
   },
   "outputs": [],
   "source": [
    ""
   ]
  }
 ],
 "metadata": {
  "anaconda-cloud": {},
  "kernelspec": {
   "display_name": "Python [default]",
   "language": "python",
   "name": "python2"
  },
  "language_info": {
   "codemirror_mode": {
    "name": "ipython",
    "version": 2.0
   },
   "file_extension": ".py",
   "mimetype": "text/x-python",
   "name": "python",
   "nbconvert_exporter": "python",
   "pygments_lexer": "ipython2",
   "version": "2.7.12"
  }
 },
 "nbformat": 4,
 "nbformat_minor": 0
}